{
 "cells": [
  {
   "cell_type": "code",
   "execution_count": 1,
   "metadata": {},
   "outputs": [],
   "source": [
    "from fastai.vision.all import *\n",
    "from fastbook import *\n",
    "\n",
    "matplotlib.rc('image', cmap='Greys')"
   ]
  },
  {
   "cell_type": "code",
   "execution_count": 2,
   "metadata": {},
   "outputs": [],
   "source": [
    "path = untar_data(URLs.MNIST_SAMPLE)"
   ]
  },
  {
   "cell_type": "code",
   "execution_count": 3,
   "metadata": {},
   "outputs": [],
   "source": [
    "Path.BASE_PATH = path"
   ]
  },
  {
   "cell_type": "code",
   "execution_count": 4,
   "metadata": {},
   "outputs": [
    {
     "data": {
      "text/plain": [
       "(#3) [Path('labels.csv'),Path('valid'),Path('train')]"
      ]
     },
     "execution_count": 4,
     "metadata": {},
     "output_type": "execute_result"
    }
   ],
   "source": [
    "path.ls()"
   ]
  },
  {
   "cell_type": "code",
   "execution_count": 5,
   "metadata": {},
   "outputs": [
    {
     "data": {
      "text/plain": [
       "(#2) [Path('train/3'),Path('train/7')]"
      ]
     },
     "execution_count": 5,
     "metadata": {},
     "output_type": "execute_result"
    }
   ],
   "source": [
    "(path/'train').ls()"
   ]
  },
  {
   "cell_type": "code",
   "execution_count": 6,
   "metadata": {},
   "outputs": [
    {
     "data": {
      "text/plain": [
       "(#6131) [Path('train/3/10.png'),Path('train/3/10000.png'),Path('train/3/10011.png'),Path('train/3/10031.png'),Path('train/3/10034.png'),Path('train/3/10042.png'),Path('train/3/10052.png'),Path('train/3/1007.png'),Path('train/3/10074.png'),Path('train/3/10091.png')...]"
      ]
     },
     "execution_count": 6,
     "metadata": {},
     "output_type": "execute_result"
    }
   ],
   "source": [
    "threes = (path/'train'/'3').ls().sorted()\n",
    "sevens = (path/'train'/'7').ls().sorted()\n",
    "threes"
   ]
  },
  {
   "cell_type": "code",
   "execution_count": 7,
   "metadata": {},
   "outputs": [
    {
     "data": {
      "image/jpeg": "[encoded data removed]",
      "image/png": "[encoded data removed]",
      "text/plain": [
       "<PIL.PngImagePlugin.PngImageFile image mode=L size=28x28>"
      ]
     },
     "execution_count": 7,
     "metadata": {},
     "output_type": "execute_result"
    }
   ],
   "source": [
    "im3_path = threes[1]\n",
    "im3 = Image.open(im3_path)\n",
    "im3"
   ]
  },
  {
   "cell_type": "code",
   "execution_count": 8,
   "metadata": {},
   "outputs": [
    {
     "data": {
      "text/plain": [
       "array([[  0,   0,   0,   0,   0,   0],\n",
       "       [  0,   0,   0,   0,   0,  29],\n",
       "       [  0,   0,   0,  48, 166, 224],\n",
       "       [  0,  93, 244, 249, 253, 187],\n",
       "       [  0, 107, 253, 253, 230,  48],\n",
       "       [  0,   3,  20,  20,  15,   0]], dtype=uint8)"
      ]
     },
     "execution_count": 8,
     "metadata": {},
     "output_type": "execute_result"
    }
   ],
   "source": [
    "array(im3)[4:10,4:10]"
   ]
  },
  {
   "cell_type": "code",
   "execution_count": 9,
   "metadata": {},
   "outputs": [
    {
     "data": {
      "text/plain": [
       "tensor([[  0,   0,   0,   0,   0,   0],\n",
       "        [  0,   0,   0,   0,   0,  29],\n",
       "        [  0,   0,   0,  48, 166, 224],\n",
       "        [  0,  93, 244, 249, 253, 187],\n",
       "        [  0, 107, 253, 253, 230,  48],\n",
       "        [  0,   3,  20,  20,  15,   0]], dtype=torch.uint8)"
      ]
     },
     "execution_count": 9,
     "metadata": {},
     "output_type": "execute_result"
    }
   ],
   "source": [
    "tensor(im3)[4:10,4:10]"
   ]
  },
  {
   "cell_type": "code",
   "execution_count": 10,
   "metadata": {},
   "outputs": [
    {
     "data": {
      "text/html": [
       "<style type=\"text/css\">\n",
       "#T_faced_row0_col0, #T_faced_row0_col1, #T_faced_row0_col2, #T_faced_row0_col3, #T_faced_row0_col4, #T_faced_row0_col5, #T_faced_row0_col6, #T_faced_row0_col7, #T_faced_row0_col8, #T_faced_row0_col9, #T_faced_row0_col10, #T_faced_row0_col11, #T_faced_row0_col12, #T_faced_row0_col13, #T_faced_row0_col14, #T_faced_row0_col15, #T_faced_row0_col16, #T_faced_row0_col17, #T_faced_row1_col0, #T_faced_row1_col1, #T_faced_row1_col2, #T_faced_row1_col3, #T_faced_row1_col4, #T_faced_row1_col15, #T_faced_row1_col16, #T_faced_row1_col17, #T_faced_row2_col0, #T_faced_row2_col1, #T_faced_row2_col2, #T_faced_row2_col15, #T_faced_row2_col16, #T_faced_row2_col17, #T_faced_row3_col0, #T_faced_row3_col15, #T_faced_row3_col16, #T_faced_row3_col17, #T_faced_row4_col0, #T_faced_row4_col6, #T_faced_row4_col7, #T_faced_row4_col8, #T_faced_row4_col9, #T_faced_row4_col10, #T_faced_row4_col15, #T_faced_row4_col16, #T_faced_row4_col17, #T_faced_row5_col0, #T_faced_row5_col5, #T_faced_row5_col6, #T_faced_row5_col7, #T_faced_row5_col8, #T_faced_row5_col9, #T_faced_row5_col15, #T_faced_row5_col16, #T_faced_row5_col17, #T_faced_row6_col0, #T_faced_row6_col1, #T_faced_row6_col2, #T_faced_row6_col3, #T_faced_row6_col4, #T_faced_row6_col5, #T_faced_row6_col6, #T_faced_row6_col7, #T_faced_row6_col8, #T_faced_row6_col9, #T_faced_row6_col14, #T_faced_row6_col15, #T_faced_row6_col16, #T_faced_row6_col17, #T_faced_row7_col0, #T_faced_row7_col1, #T_faced_row7_col2, #T_faced_row7_col3, #T_faced_row7_col4, #T_faced_row7_col5, #T_faced_row7_col6, #T_faced_row7_col13, #T_faced_row7_col14, #T_faced_row7_col15, #T_faced_row7_col16, #T_faced_row7_col17, #T_faced_row8_col0, #T_faced_row8_col1, #T_faced_row8_col2, #T_faced_row8_col3, #T_faced_row8_col4, #T_faced_row8_col13, #T_faced_row8_col14, #T_faced_row8_col15, #T_faced_row8_col16, #T_faced_row8_col17, #T_faced_row9_col0, #T_faced_row9_col1, #T_faced_row9_col2, #T_faced_row9_col3, #T_faced_row9_col4, #T_faced_row9_col16, #T_faced_row9_col17, #T_faced_row10_col0, #T_faced_row10_col1, #T_faced_row10_col2, #T_faced_row10_col3, #T_faced_row10_col4, #T_faced_row10_col5, #T_faced_row10_col6, #T_faced_row10_col17 {\n",
       "  font-size: 6pt;\n",
       "  background-color: #ffffff;\n",
       "  color: #000000;\n",
       "}\n",
       "#T_faced_row1_col5 {\n",
       "  font-size: 6pt;\n",
       "  background-color: #efefef;\n",
       "  color: #000000;\n",
       "}\n",
       "#T_faced_row1_col6, #T_faced_row1_col13 {\n",
       "  font-size: 6pt;\n",
       "  background-color: #7c7c7c;\n",
       "  color: #f1f1f1;\n",
       "}\n",
       "#T_faced_row1_col7 {\n",
       "  font-size: 6pt;\n",
       "  background-color: #4a4a4a;\n",
       "  color: #f1f1f1;\n",
       "}\n",
       "#T_faced_row1_col8, #T_faced_row1_col9, #T_faced_row1_col10, #T_faced_row2_col5, #T_faced_row2_col6, #T_faced_row2_col7, #T_faced_row2_col11, #T_faced_row2_col12, #T_faced_row2_col13, #T_faced_row3_col4, #T_faced_row3_col12, #T_faced_row3_col13, #T_faced_row4_col1, #T_faced_row4_col2, #T_faced_row4_col3, #T_faced_row4_col12, #T_faced_row4_col13, #T_faced_row5_col12, #T_faced_row6_col11, #T_faced_row9_col11, #T_faced_row10_col11, #T_faced_row10_col12, #T_faced_row10_col13, #T_faced_row10_col14, #T_faced_row10_col15, #T_faced_row10_col16 {\n",
       "  font-size: 6pt;\n",
       "  background-color: #000000;\n",
       "  color: #f1f1f1;\n",
       "}\n",
       "#T_faced_row1_col11 {\n",
       "  font-size: 6pt;\n",
       "  background-color: #606060;\n",
       "  color: #f1f1f1;\n",
       "}\n",
       "#T_faced_row1_col12 {\n",
       "  font-size: 6pt;\n",
       "  background-color: #4d4d4d;\n",
       "  color: #f1f1f1;\n",
       "}\n",
       "#T_faced_row1_col14 {\n",
       "  font-size: 6pt;\n",
       "  background-color: #bbbbbb;\n",
       "  color: #000000;\n",
       "}\n",
       "#T_faced_row2_col3 {\n",
       "  font-size: 6pt;\n",
       "  background-color: #e4e4e4;\n",
       "  color: #000000;\n",
       "}\n",
       "#T_faced_row2_col4, #T_faced_row8_col6 {\n",
       "  font-size: 6pt;\n",
       "  background-color: #6b6b6b;\n",
       "  color: #f1f1f1;\n",
       "}\n",
       "#T_faced_row2_col8, #T_faced_row2_col14, #T_faced_row3_col14 {\n",
       "  font-size: 6pt;\n",
       "  background-color: #171717;\n",
       "  color: #f1f1f1;\n",
       "}\n",
       "#T_faced_row2_col9, #T_faced_row3_col11 {\n",
       "  font-size: 6pt;\n",
       "  background-color: #4b4b4b;\n",
       "  color: #f1f1f1;\n",
       "}\n",
       "#T_faced_row2_col10, #T_faced_row7_col10, #T_faced_row8_col8, #T_faced_row8_col10, #T_faced_row9_col8, #T_faced_row9_col10 {\n",
       "  font-size: 6pt;\n",
       "  background-color: #010101;\n",
       "  color: #f1f1f1;\n",
       "}\n",
       "#T_faced_row3_col1 {\n",
       "  font-size: 6pt;\n",
       "  background-color: #272727;\n",
       "  color: #f1f1f1;\n",
       "}\n",
       "#T_faced_row3_col2 {\n",
       "  font-size: 6pt;\n",
       "  background-color: #0a0a0a;\n",
       "  color: #f1f1f1;\n",
       "}\n",
       "#T_faced_row3_col3 {\n",
       "  font-size: 6pt;\n",
       "  background-color: #050505;\n",
       "  color: #f1f1f1;\n",
       "}\n",
       "#T_faced_row3_col5 {\n",
       "  font-size: 6pt;\n",
       "  background-color: #333333;\n",
       "  color: #f1f1f1;\n",
       "}\n",
       "#T_faced_row3_col6 {\n",
       "  font-size: 6pt;\n",
       "  background-color: #e6e6e6;\n",
       "  color: #000000;\n",
       "}\n",
       "#T_faced_row3_col7, #T_faced_row3_col10 {\n",
       "  font-size: 6pt;\n",
       "  background-color: #fafafa;\n",
       "  color: #000000;\n",
       "}\n",
       "#T_faced_row3_col8 {\n",
       "  font-size: 6pt;\n",
       "  background-color: #fbfbfb;\n",
       "  color: #000000;\n",
       "}\n",
       "#T_faced_row3_col9 {\n",
       "  font-size: 6pt;\n",
       "  background-color: #fdfdfd;\n",
       "  color: #000000;\n",
       "}\n",
       "#T_faced_row4_col4 {\n",
       "  font-size: 6pt;\n",
       "  background-color: #1b1b1b;\n",
       "  color: #f1f1f1;\n",
       "}\n",
       "#T_faced_row4_col5 {\n",
       "  font-size: 6pt;\n",
       "  background-color: #e0e0e0;\n",
       "  color: #000000;\n",
       "}\n",
       "#T_faced_row4_col11 {\n",
       "  font-size: 6pt;\n",
       "  background-color: #4e4e4e;\n",
       "  color: #f1f1f1;\n",
       "}\n",
       "#T_faced_row4_col14 {\n",
       "  font-size: 6pt;\n",
       "  background-color: #767676;\n",
       "  color: #f1f1f1;\n",
       "}\n",
       "#T_faced_row5_col1 {\n",
       "  font-size: 6pt;\n",
       "  background-color: #fcfcfc;\n",
       "  color: #000000;\n",
       "}\n",
       "#T_faced_row5_col2, #T_faced_row5_col3 {\n",
       "  font-size: 6pt;\n",
       "  background-color: #f6f6f6;\n",
       "  color: #000000;\n",
       "}\n",
       "#T_faced_row5_col4, #T_faced_row7_col7 {\n",
       "  font-size: 6pt;\n",
       "  background-color: #f8f8f8;\n",
       "  color: #000000;\n",
       "}\n",
       "#T_faced_row5_col10, #T_faced_row10_col7 {\n",
       "  font-size: 6pt;\n",
       "  background-color: #e8e8e8;\n",
       "  color: #000000;\n",
       "}\n",
       "#T_faced_row5_col11 {\n",
       "  font-size: 6pt;\n",
       "  background-color: #222222;\n",
       "  color: #f1f1f1;\n",
       "}\n",
       "#T_faced_row5_col13, #T_faced_row6_col12 {\n",
       "  font-size: 6pt;\n",
       "  background-color: #090909;\n",
       "  color: #f1f1f1;\n",
       "}\n",
       "#T_faced_row5_col14 {\n",
       "  font-size: 6pt;\n",
       "  background-color: #d0d0d0;\n",
       "  color: #000000;\n",
       "}\n",
       "#T_faced_row6_col10, #T_faced_row7_col11, #T_faced_row9_col6 {\n",
       "  font-size: 6pt;\n",
       "  background-color: #060606;\n",
       "  color: #f1f1f1;\n",
       "}\n",
       "#T_faced_row6_col13 {\n",
       "  font-size: 6pt;\n",
       "  background-color: #979797;\n",
       "  color: #f1f1f1;\n",
       "}\n",
       "#T_faced_row7_col8 {\n",
       "  font-size: 6pt;\n",
       "  background-color: #b6b6b6;\n",
       "  color: #000000;\n",
       "}\n",
       "#T_faced_row7_col9 {\n",
       "  font-size: 6pt;\n",
       "  background-color: #252525;\n",
       "  color: #f1f1f1;\n",
       "}\n",
       "#T_faced_row7_col12 {\n",
       "  font-size: 6pt;\n",
       "  background-color: #999999;\n",
       "  color: #f1f1f1;\n",
       "}\n",
       "#T_faced_row8_col5 {\n",
       "  font-size: 6pt;\n",
       "  background-color: #f9f9f9;\n",
       "  color: #000000;\n",
       "}\n",
       "#T_faced_row8_col7 {\n",
       "  font-size: 6pt;\n",
       "  background-color: #101010;\n",
       "  color: #f1f1f1;\n",
       "}\n",
       "#T_faced_row8_col9, #T_faced_row9_col9 {\n",
       "  font-size: 6pt;\n",
       "  background-color: #020202;\n",
       "  color: #f1f1f1;\n",
       "}\n",
       "#T_faced_row8_col11 {\n",
       "  font-size: 6pt;\n",
       "  background-color: #545454;\n",
       "  color: #f1f1f1;\n",
       "}\n",
       "#T_faced_row8_col12 {\n",
       "  font-size: 6pt;\n",
       "  background-color: #f1f1f1;\n",
       "  color: #000000;\n",
       "}\n",
       "#T_faced_row9_col5 {\n",
       "  font-size: 6pt;\n",
       "  background-color: #f7f7f7;\n",
       "  color: #000000;\n",
       "}\n",
       "#T_faced_row9_col7 {\n",
       "  font-size: 6pt;\n",
       "  background-color: #030303;\n",
       "  color: #f1f1f1;\n",
       "}\n",
       "#T_faced_row9_col12 {\n",
       "  font-size: 6pt;\n",
       "  background-color: #181818;\n",
       "  color: #f1f1f1;\n",
       "}\n",
       "#T_faced_row9_col13 {\n",
       "  font-size: 6pt;\n",
       "  background-color: #303030;\n",
       "  color: #f1f1f1;\n",
       "}\n",
       "#T_faced_row9_col14 {\n",
       "  font-size: 6pt;\n",
       "  background-color: #a9a9a9;\n",
       "  color: #f1f1f1;\n",
       "}\n",
       "#T_faced_row9_col15 {\n",
       "  font-size: 6pt;\n",
       "  background-color: #fefefe;\n",
       "  color: #000000;\n",
       "}\n",
       "#T_faced_row10_col8, #T_faced_row10_col9 {\n",
       "  font-size: 6pt;\n",
       "  background-color: #bababa;\n",
       "  color: #000000;\n",
       "}\n",
       "#T_faced_row10_col10 {\n",
       "  font-size: 6pt;\n",
       "  background-color: #393939;\n",
       "  color: #f1f1f1;\n",
       "}\n",
       "</style>\n",
       "<table id=\"T_faced\">\n",
       "  <thead>\n",
       "    <tr>\n",
       "      <th class=\"blank level0\" >&nbsp;</th>\n",
       "      <th id=\"T_faced_level0_col0\" class=\"col_heading level0 col0\" >0</th>\n",
       "      <th id=\"T_faced_level0_col1\" class=\"col_heading level0 col1\" >1</th>\n",
       "      <th id=\"T_faced_level0_col2\" class=\"col_heading level0 col2\" >2</th>\n",
       "      <th id=\"T_faced_level0_col3\" class=\"col_heading level0 col3\" >3</th>\n",
       "      <th id=\"T_faced_level0_col4\" class=\"col_heading level0 col4\" >4</th>\n",
       "      <th id=\"T_faced_level0_col5\" class=\"col_heading level0 col5\" >5</th>\n",
       "      <th id=\"T_faced_level0_col6\" class=\"col_heading level0 col6\" >6</th>\n",
       "      <th id=\"T_faced_level0_col7\" class=\"col_heading level0 col7\" >7</th>\n",
       "      <th id=\"T_faced_level0_col8\" class=\"col_heading level0 col8\" >8</th>\n",
       "      <th id=\"T_faced_level0_col9\" class=\"col_heading level0 col9\" >9</th>\n",
       "      <th id=\"T_faced_level0_col10\" class=\"col_heading level0 col10\" >10</th>\n",
       "      <th id=\"T_faced_level0_col11\" class=\"col_heading level0 col11\" >11</th>\n",
       "      <th id=\"T_faced_level0_col12\" class=\"col_heading level0 col12\" >12</th>\n",
       "      <th id=\"T_faced_level0_col13\" class=\"col_heading level0 col13\" >13</th>\n",
       "      <th id=\"T_faced_level0_col14\" class=\"col_heading level0 col14\" >14</th>\n",
       "      <th id=\"T_faced_level0_col15\" class=\"col_heading level0 col15\" >15</th>\n",
       "      <th id=\"T_faced_level0_col16\" class=\"col_heading level0 col16\" >16</th>\n",
       "      <th id=\"T_faced_level0_col17\" class=\"col_heading level0 col17\" >17</th>\n",
       "    </tr>\n",
       "  </thead>\n",
       "  <tbody>\n",
       "    <tr>\n",
       "      <th id=\"T_faced_level0_row0\" class=\"row_heading level0 row0\" >0</th>\n",
       "      <td id=\"T_faced_row0_col0\" class=\"data row0 col0\" >0</td>\n",
       "      <td id=\"T_faced_row0_col1\" class=\"data row0 col1\" >0</td>\n",
       "      <td id=\"T_faced_row0_col2\" class=\"data row0 col2\" >0</td>\n",
       "      <td id=\"T_faced_row0_col3\" class=\"data row0 col3\" >0</td>\n",
       "      <td id=\"T_faced_row0_col4\" class=\"data row0 col4\" >0</td>\n",
       "      <td id=\"T_faced_row0_col5\" class=\"data row0 col5\" >0</td>\n",
       "      <td id=\"T_faced_row0_col6\" class=\"data row0 col6\" >0</td>\n",
       "      <td id=\"T_faced_row0_col7\" class=\"data row0 col7\" >0</td>\n",
       "      <td id=\"T_faced_row0_col8\" class=\"data row0 col8\" >0</td>\n",
       "      <td id=\"T_faced_row0_col9\" class=\"data row0 col9\" >0</td>\n",
       "      <td id=\"T_faced_row0_col10\" class=\"data row0 col10\" >0</td>\n",
       "      <td id=\"T_faced_row0_col11\" class=\"data row0 col11\" >0</td>\n",
       "      <td id=\"T_faced_row0_col12\" class=\"data row0 col12\" >0</td>\n",
       "      <td id=\"T_faced_row0_col13\" class=\"data row0 col13\" >0</td>\n",
       "      <td id=\"T_faced_row0_col14\" class=\"data row0 col14\" >0</td>\n",
       "      <td id=\"T_faced_row0_col15\" class=\"data row0 col15\" >0</td>\n",
       "      <td id=\"T_faced_row0_col16\" class=\"data row0 col16\" >0</td>\n",
       "      <td id=\"T_faced_row0_col17\" class=\"data row0 col17\" >0</td>\n",
       "    </tr>\n",
       "    <tr>\n",
       "      <th id=\"T_faced_level0_row1\" class=\"row_heading level0 row1\" >1</th>\n",
       "      <td id=\"T_faced_row1_col0\" class=\"data row1 col0\" >0</td>\n",
       "      <td id=\"T_faced_row1_col1\" class=\"data row1 col1\" >0</td>\n",
       "      <td id=\"T_faced_row1_col2\" class=\"data row1 col2\" >0</td>\n",
       "      <td id=\"T_faced_row1_col3\" class=\"data row1 col3\" >0</td>\n",
       "      <td id=\"T_faced_row1_col4\" class=\"data row1 col4\" >0</td>\n",
       "      <td id=\"T_faced_row1_col5\" class=\"data row1 col5\" >29</td>\n",
       "      <td id=\"T_faced_row1_col6\" class=\"data row1 col6\" >150</td>\n",
       "      <td id=\"T_faced_row1_col7\" class=\"data row1 col7\" >195</td>\n",
       "      <td id=\"T_faced_row1_col8\" class=\"data row1 col8\" >254</td>\n",
       "      <td id=\"T_faced_row1_col9\" class=\"data row1 col9\" >255</td>\n",
       "      <td id=\"T_faced_row1_col10\" class=\"data row1 col10\" >254</td>\n",
       "      <td id=\"T_faced_row1_col11\" class=\"data row1 col11\" >176</td>\n",
       "      <td id=\"T_faced_row1_col12\" class=\"data row1 col12\" >193</td>\n",
       "      <td id=\"T_faced_row1_col13\" class=\"data row1 col13\" >150</td>\n",
       "      <td id=\"T_faced_row1_col14\" class=\"data row1 col14\" >96</td>\n",
       "      <td id=\"T_faced_row1_col15\" class=\"data row1 col15\" >0</td>\n",
       "      <td id=\"T_faced_row1_col16\" class=\"data row1 col16\" >0</td>\n",
       "      <td id=\"T_faced_row1_col17\" class=\"data row1 col17\" >0</td>\n",
       "    </tr>\n",
       "    <tr>\n",
       "      <th id=\"T_faced_level0_row2\" class=\"row_heading level0 row2\" >2</th>\n",
       "      <td id=\"T_faced_row2_col0\" class=\"data row2 col0\" >0</td>\n",
       "      <td id=\"T_faced_row2_col1\" class=\"data row2 col1\" >0</td>\n",
       "      <td id=\"T_faced_row2_col2\" class=\"data row2 col2\" >0</td>\n",
       "      <td id=\"T_faced_row2_col3\" class=\"data row2 col3\" >48</td>\n",
       "      <td id=\"T_faced_row2_col4\" class=\"data row2 col4\" >166</td>\n",
       "      <td id=\"T_faced_row2_col5\" class=\"data row2 col5\" >224</td>\n",
       "      <td id=\"T_faced_row2_col6\" class=\"data row2 col6\" >253</td>\n",
       "      <td id=\"T_faced_row2_col7\" class=\"data row2 col7\" >253</td>\n",
       "      <td id=\"T_faced_row2_col8\" class=\"data row2 col8\" >234</td>\n",
       "      <td id=\"T_faced_row2_col9\" class=\"data row2 col9\" >196</td>\n",
       "      <td id=\"T_faced_row2_col10\" class=\"data row2 col10\" >253</td>\n",
       "      <td id=\"T_faced_row2_col11\" class=\"data row2 col11\" >253</td>\n",
       "      <td id=\"T_faced_row2_col12\" class=\"data row2 col12\" >253</td>\n",
       "      <td id=\"T_faced_row2_col13\" class=\"data row2 col13\" >253</td>\n",
       "      <td id=\"T_faced_row2_col14\" class=\"data row2 col14\" >233</td>\n",
       "      <td id=\"T_faced_row2_col15\" class=\"data row2 col15\" >0</td>\n",
       "      <td id=\"T_faced_row2_col16\" class=\"data row2 col16\" >0</td>\n",
       "      <td id=\"T_faced_row2_col17\" class=\"data row2 col17\" >0</td>\n",
       "    </tr>\n",
       "    <tr>\n",
       "      <th id=\"T_faced_level0_row3\" class=\"row_heading level0 row3\" >3</th>\n",
       "      <td id=\"T_faced_row3_col0\" class=\"data row3 col0\" >0</td>\n",
       "      <td id=\"T_faced_row3_col1\" class=\"data row3 col1\" >93</td>\n",
       "      <td id=\"T_faced_row3_col2\" class=\"data row3 col2\" >244</td>\n",
       "      <td id=\"T_faced_row3_col3\" class=\"data row3 col3\" >249</td>\n",
       "      <td id=\"T_faced_row3_col4\" class=\"data row3 col4\" >253</td>\n",
       "      <td id=\"T_faced_row3_col5\" class=\"data row3 col5\" >187</td>\n",
       "      <td id=\"T_faced_row3_col6\" class=\"data row3 col6\" >46</td>\n",
       "      <td id=\"T_faced_row3_col7\" class=\"data row3 col7\" >10</td>\n",
       "      <td id=\"T_faced_row3_col8\" class=\"data row3 col8\" >8</td>\n",
       "      <td id=\"T_faced_row3_col9\" class=\"data row3 col9\" >4</td>\n",
       "      <td id=\"T_faced_row3_col10\" class=\"data row3 col10\" >10</td>\n",
       "      <td id=\"T_faced_row3_col11\" class=\"data row3 col11\" >194</td>\n",
       "      <td id=\"T_faced_row3_col12\" class=\"data row3 col12\" >253</td>\n",
       "      <td id=\"T_faced_row3_col13\" class=\"data row3 col13\" >253</td>\n",
       "      <td id=\"T_faced_row3_col14\" class=\"data row3 col14\" >233</td>\n",
       "      <td id=\"T_faced_row3_col15\" class=\"data row3 col15\" >0</td>\n",
       "      <td id=\"T_faced_row3_col16\" class=\"data row3 col16\" >0</td>\n",
       "      <td id=\"T_faced_row3_col17\" class=\"data row3 col17\" >0</td>\n",
       "    </tr>\n",
       "    <tr>\n",
       "      <th id=\"T_faced_level0_row4\" class=\"row_heading level0 row4\" >4</th>\n",
       "      <td id=\"T_faced_row4_col0\" class=\"data row4 col0\" >0</td>\n",
       "      <td id=\"T_faced_row4_col1\" class=\"data row4 col1\" >107</td>\n",
       "      <td id=\"T_faced_row4_col2\" class=\"data row4 col2\" >253</td>\n",
       "      <td id=\"T_faced_row4_col3\" class=\"data row4 col3\" >253</td>\n",
       "      <td id=\"T_faced_row4_col4\" class=\"data row4 col4\" >230</td>\n",
       "      <td id=\"T_faced_row4_col5\" class=\"data row4 col5\" >48</td>\n",
       "      <td id=\"T_faced_row4_col6\" class=\"data row4 col6\" >0</td>\n",
       "      <td id=\"T_faced_row4_col7\" class=\"data row4 col7\" >0</td>\n",
       "      <td id=\"T_faced_row4_col8\" class=\"data row4 col8\" >0</td>\n",
       "      <td id=\"T_faced_row4_col9\" class=\"data row4 col9\" >0</td>\n",
       "      <td id=\"T_faced_row4_col10\" class=\"data row4 col10\" >0</td>\n",
       "      <td id=\"T_faced_row4_col11\" class=\"data row4 col11\" >192</td>\n",
       "      <td id=\"T_faced_row4_col12\" class=\"data row4 col12\" >253</td>\n",
       "      <td id=\"T_faced_row4_col13\" class=\"data row4 col13\" >253</td>\n",
       "      <td id=\"T_faced_row4_col14\" class=\"data row4 col14\" >156</td>\n",
       "      <td id=\"T_faced_row4_col15\" class=\"data row4 col15\" >0</td>\n",
       "      <td id=\"T_faced_row4_col16\" class=\"data row4 col16\" >0</td>\n",
       "      <td id=\"T_faced_row4_col17\" class=\"data row4 col17\" >0</td>\n",
       "    </tr>\n",
       "    <tr>\n",
       "      <th id=\"T_faced_level0_row5\" class=\"row_heading level0 row5\" >5</th>\n",
       "      <td id=\"T_faced_row5_col0\" class=\"data row5 col0\" >0</td>\n",
       "      <td id=\"T_faced_row5_col1\" class=\"data row5 col1\" >3</td>\n",
       "      <td id=\"T_faced_row5_col2\" class=\"data row5 col2\" >20</td>\n",
       "      <td id=\"T_faced_row5_col3\" class=\"data row5 col3\" >20</td>\n",
       "      <td id=\"T_faced_row5_col4\" class=\"data row5 col4\" >15</td>\n",
       "      <td id=\"T_faced_row5_col5\" class=\"data row5 col5\" >0</td>\n",
       "      <td id=\"T_faced_row5_col6\" class=\"data row5 col6\" >0</td>\n",
       "      <td id=\"T_faced_row5_col7\" class=\"data row5 col7\" >0</td>\n",
       "      <td id=\"T_faced_row5_col8\" class=\"data row5 col8\" >0</td>\n",
       "      <td id=\"T_faced_row5_col9\" class=\"data row5 col9\" >0</td>\n",
       "      <td id=\"T_faced_row5_col10\" class=\"data row5 col10\" >43</td>\n",
       "      <td id=\"T_faced_row5_col11\" class=\"data row5 col11\" >224</td>\n",
       "      <td id=\"T_faced_row5_col12\" class=\"data row5 col12\" >253</td>\n",
       "      <td id=\"T_faced_row5_col13\" class=\"data row5 col13\" >245</td>\n",
       "      <td id=\"T_faced_row5_col14\" class=\"data row5 col14\" >74</td>\n",
       "      <td id=\"T_faced_row5_col15\" class=\"data row5 col15\" >0</td>\n",
       "      <td id=\"T_faced_row5_col16\" class=\"data row5 col16\" >0</td>\n",
       "      <td id=\"T_faced_row5_col17\" class=\"data row5 col17\" >0</td>\n",
       "    </tr>\n",
       "    <tr>\n",
       "      <th id=\"T_faced_level0_row6\" class=\"row_heading level0 row6\" >6</th>\n",
       "      <td id=\"T_faced_row6_col0\" class=\"data row6 col0\" >0</td>\n",
       "      <td id=\"T_faced_row6_col1\" class=\"data row6 col1\" >0</td>\n",
       "      <td id=\"T_faced_row6_col2\" class=\"data row6 col2\" >0</td>\n",
       "      <td id=\"T_faced_row6_col3\" class=\"data row6 col3\" >0</td>\n",
       "      <td id=\"T_faced_row6_col4\" class=\"data row6 col4\" >0</td>\n",
       "      <td id=\"T_faced_row6_col5\" class=\"data row6 col5\" >0</td>\n",
       "      <td id=\"T_faced_row6_col6\" class=\"data row6 col6\" >0</td>\n",
       "      <td id=\"T_faced_row6_col7\" class=\"data row6 col7\" >0</td>\n",
       "      <td id=\"T_faced_row6_col8\" class=\"data row6 col8\" >0</td>\n",
       "      <td id=\"T_faced_row6_col9\" class=\"data row6 col9\" >0</td>\n",
       "      <td id=\"T_faced_row6_col10\" class=\"data row6 col10\" >249</td>\n",
       "      <td id=\"T_faced_row6_col11\" class=\"data row6 col11\" >253</td>\n",
       "      <td id=\"T_faced_row6_col12\" class=\"data row6 col12\" >245</td>\n",
       "      <td id=\"T_faced_row6_col13\" class=\"data row6 col13\" >126</td>\n",
       "      <td id=\"T_faced_row6_col14\" class=\"data row6 col14\" >0</td>\n",
       "      <td id=\"T_faced_row6_col15\" class=\"data row6 col15\" >0</td>\n",
       "      <td id=\"T_faced_row6_col16\" class=\"data row6 col16\" >0</td>\n",
       "      <td id=\"T_faced_row6_col17\" class=\"data row6 col17\" >0</td>\n",
       "    </tr>\n",
       "    <tr>\n",
       "      <th id=\"T_faced_level0_row7\" class=\"row_heading level0 row7\" >7</th>\n",
       "      <td id=\"T_faced_row7_col0\" class=\"data row7 col0\" >0</td>\n",
       "      <td id=\"T_faced_row7_col1\" class=\"data row7 col1\" >0</td>\n",
       "      <td id=\"T_faced_row7_col2\" class=\"data row7 col2\" >0</td>\n",
       "      <td id=\"T_faced_row7_col3\" class=\"data row7 col3\" >0</td>\n",
       "      <td id=\"T_faced_row7_col4\" class=\"data row7 col4\" >0</td>\n",
       "      <td id=\"T_faced_row7_col5\" class=\"data row7 col5\" >0</td>\n",
       "      <td id=\"T_faced_row7_col6\" class=\"data row7 col6\" >0</td>\n",
       "      <td id=\"T_faced_row7_col7\" class=\"data row7 col7\" >14</td>\n",
       "      <td id=\"T_faced_row7_col8\" class=\"data row7 col8\" >101</td>\n",
       "      <td id=\"T_faced_row7_col9\" class=\"data row7 col9\" >223</td>\n",
       "      <td id=\"T_faced_row7_col10\" class=\"data row7 col10\" >253</td>\n",
       "      <td id=\"T_faced_row7_col11\" class=\"data row7 col11\" >248</td>\n",
       "      <td id=\"T_faced_row7_col12\" class=\"data row7 col12\" >124</td>\n",
       "      <td id=\"T_faced_row7_col13\" class=\"data row7 col13\" >0</td>\n",
       "      <td id=\"T_faced_row7_col14\" class=\"data row7 col14\" >0</td>\n",
       "      <td id=\"T_faced_row7_col15\" class=\"data row7 col15\" >0</td>\n",
       "      <td id=\"T_faced_row7_col16\" class=\"data row7 col16\" >0</td>\n",
       "      <td id=\"T_faced_row7_col17\" class=\"data row7 col17\" >0</td>\n",
       "    </tr>\n",
       "    <tr>\n",
       "      <th id=\"T_faced_level0_row8\" class=\"row_heading level0 row8\" >8</th>\n",
       "      <td id=\"T_faced_row8_col0\" class=\"data row8 col0\" >0</td>\n",
       "      <td id=\"T_faced_row8_col1\" class=\"data row8 col1\" >0</td>\n",
       "      <td id=\"T_faced_row8_col2\" class=\"data row8 col2\" >0</td>\n",
       "      <td id=\"T_faced_row8_col3\" class=\"data row8 col3\" >0</td>\n",
       "      <td id=\"T_faced_row8_col4\" class=\"data row8 col4\" >0</td>\n",
       "      <td id=\"T_faced_row8_col5\" class=\"data row8 col5\" >11</td>\n",
       "      <td id=\"T_faced_row8_col6\" class=\"data row8 col6\" >166</td>\n",
       "      <td id=\"T_faced_row8_col7\" class=\"data row8 col7\" >239</td>\n",
       "      <td id=\"T_faced_row8_col8\" class=\"data row8 col8\" >253</td>\n",
       "      <td id=\"T_faced_row8_col9\" class=\"data row8 col9\" >253</td>\n",
       "      <td id=\"T_faced_row8_col10\" class=\"data row8 col10\" >253</td>\n",
       "      <td id=\"T_faced_row8_col11\" class=\"data row8 col11\" >187</td>\n",
       "      <td id=\"T_faced_row8_col12\" class=\"data row8 col12\" >30</td>\n",
       "      <td id=\"T_faced_row8_col13\" class=\"data row8 col13\" >0</td>\n",
       "      <td id=\"T_faced_row8_col14\" class=\"data row8 col14\" >0</td>\n",
       "      <td id=\"T_faced_row8_col15\" class=\"data row8 col15\" >0</td>\n",
       "      <td id=\"T_faced_row8_col16\" class=\"data row8 col16\" >0</td>\n",
       "      <td id=\"T_faced_row8_col17\" class=\"data row8 col17\" >0</td>\n",
       "    </tr>\n",
       "    <tr>\n",
       "      <th id=\"T_faced_level0_row9\" class=\"row_heading level0 row9\" >9</th>\n",
       "      <td id=\"T_faced_row9_col0\" class=\"data row9 col0\" >0</td>\n",
       "      <td id=\"T_faced_row9_col1\" class=\"data row9 col1\" >0</td>\n",
       "      <td id=\"T_faced_row9_col2\" class=\"data row9 col2\" >0</td>\n",
       "      <td id=\"T_faced_row9_col3\" class=\"data row9 col3\" >0</td>\n",
       "      <td id=\"T_faced_row9_col4\" class=\"data row9 col4\" >0</td>\n",
       "      <td id=\"T_faced_row9_col5\" class=\"data row9 col5\" >16</td>\n",
       "      <td id=\"T_faced_row9_col6\" class=\"data row9 col6\" >248</td>\n",
       "      <td id=\"T_faced_row9_col7\" class=\"data row9 col7\" >250</td>\n",
       "      <td id=\"T_faced_row9_col8\" class=\"data row9 col8\" >253</td>\n",
       "      <td id=\"T_faced_row9_col9\" class=\"data row9 col9\" >253</td>\n",
       "      <td id=\"T_faced_row9_col10\" class=\"data row9 col10\" >253</td>\n",
       "      <td id=\"T_faced_row9_col11\" class=\"data row9 col11\" >253</td>\n",
       "      <td id=\"T_faced_row9_col12\" class=\"data row9 col12\" >232</td>\n",
       "      <td id=\"T_faced_row9_col13\" class=\"data row9 col13\" >213</td>\n",
       "      <td id=\"T_faced_row9_col14\" class=\"data row9 col14\" >111</td>\n",
       "      <td id=\"T_faced_row9_col15\" class=\"data row9 col15\" >2</td>\n",
       "      <td id=\"T_faced_row9_col16\" class=\"data row9 col16\" >0</td>\n",
       "      <td id=\"T_faced_row9_col17\" class=\"data row9 col17\" >0</td>\n",
       "    </tr>\n",
       "    <tr>\n",
       "      <th id=\"T_faced_level0_row10\" class=\"row_heading level0 row10\" >10</th>\n",
       "      <td id=\"T_faced_row10_col0\" class=\"data row10 col0\" >0</td>\n",
       "      <td id=\"T_faced_row10_col1\" class=\"data row10 col1\" >0</td>\n",
       "      <td id=\"T_faced_row10_col2\" class=\"data row10 col2\" >0</td>\n",
       "      <td id=\"T_faced_row10_col3\" class=\"data row10 col3\" >0</td>\n",
       "      <td id=\"T_faced_row10_col4\" class=\"data row10 col4\" >0</td>\n",
       "      <td id=\"T_faced_row10_col5\" class=\"data row10 col5\" >0</td>\n",
       "      <td id=\"T_faced_row10_col6\" class=\"data row10 col6\" >0</td>\n",
       "      <td id=\"T_faced_row10_col7\" class=\"data row10 col7\" >43</td>\n",
       "      <td id=\"T_faced_row10_col8\" class=\"data row10 col8\" >98</td>\n",
       "      <td id=\"T_faced_row10_col9\" class=\"data row10 col9\" >98</td>\n",
       "      <td id=\"T_faced_row10_col10\" class=\"data row10 col10\" >208</td>\n",
       "      <td id=\"T_faced_row10_col11\" class=\"data row10 col11\" >253</td>\n",
       "      <td id=\"T_faced_row10_col12\" class=\"data row10 col12\" >253</td>\n",
       "      <td id=\"T_faced_row10_col13\" class=\"data row10 col13\" >253</td>\n",
       "      <td id=\"T_faced_row10_col14\" class=\"data row10 col14\" >253</td>\n",
       "      <td id=\"T_faced_row10_col15\" class=\"data row10 col15\" >187</td>\n",
       "      <td id=\"T_faced_row10_col16\" class=\"data row10 col16\" >22</td>\n",
       "      <td id=\"T_faced_row10_col17\" class=\"data row10 col17\" >0</td>\n",
       "    </tr>\n",
       "  </tbody>\n",
       "</table>\n"
      ],
      "text/plain": [
       "<pandas.io.formats.style.Styler at 0x77449d080830>"
      ]
     },
     "execution_count": 10,
     "metadata": {},
     "output_type": "execute_result"
    }
   ],
   "source": [
    "im3_t = tensor(im3)\n",
    "df = pd.DataFrame(im3_t[4:15,4:22])\n",
    "df.style.set_properties(**{'font-size':'6pt'}).background_gradient('Greys')"
   ]
  },
  {
   "cell_type": "code",
   "execution_count": 11,
   "metadata": {},
   "outputs": [
    {
     "data": {
      "text/plain": [
       "(6131, 6265)"
      ]
     },
     "execution_count": 11,
     "metadata": {},
     "output_type": "execute_result"
    }
   ],
   "source": [
    "seven_tensors = [tensor(Image.open(o)) for o in sevens]\n",
    "three_tensors = [tensor(Image.open(o)) for o in threes]\n",
    "len(three_tensors),len(seven_tensors)"
   ]
  },
  {
   "cell_type": "code",
   "execution_count": 12,
   "metadata": {},
   "outputs": [
    {
     "data": {
      "text/plain": [
       "<Axes: >"
      ]
     },
     "execution_count": 12,
     "metadata": {},
     "output_type": "execute_result"
    },
    {
     "data": {
      "image/png": "[encoded data removed]",
      "text/plain": [
       "<Figure size 100x100 with 1 Axes>"
      ]
     },
     "metadata": {},
     "output_type": "display_data"
    }
   ],
   "source": [
    "show_image(three_tensors[1])"
   ]
  },
  {
   "cell_type": "code",
   "execution_count": 13,
   "metadata": {},
   "outputs": [
    {
     "data": {
      "text/plain": [
       "torch.Size([6131, 28, 28])"
      ]
     },
     "execution_count": 13,
     "metadata": {},
     "output_type": "execute_result"
    }
   ],
   "source": [
    "stacked_sevens = torch.stack(seven_tensors).float()/255\n",
    "stacked_threes = torch.stack(three_tensors).float()/255\n",
    "stacked_threes.shape"
   ]
  },
  {
   "cell_type": "code",
   "execution_count": 14,
   "metadata": {},
   "outputs": [
    {
     "data": {
      "text/plain": [
       "3"
      ]
     },
     "execution_count": 14,
     "metadata": {},
     "output_type": "execute_result"
    }
   ],
   "source": [
    "len(stacked_threes.shape)"
   ]
  },
  {
   "cell_type": "code",
   "execution_count": 15,
   "metadata": {},
   "outputs": [
    {
     "data": {
      "text/plain": [
       "3"
      ]
     },
     "execution_count": 15,
     "metadata": {},
     "output_type": "execute_result"
    }
   ],
   "source": [
    "stacked_threes.ndim"
   ]
  },
  {
   "cell_type": "code",
   "execution_count": 16,
   "metadata": {},
   "outputs": [
    {
     "data": {
      "text/plain": [
       "<Axes: >"
      ]
     },
     "execution_count": 16,
     "metadata": {},
     "output_type": "execute_result"
    },
    {
     "data": {
      "image/png": "[encoded data removed]",
      "text/plain": [
       "<Figure size 100x100 with 1 Axes>"
      ]
     },
     "metadata": {},
     "output_type": "display_data"
    }
   ],
   "source": [
    "mean3 = stacked_threes.mean(0)\n",
    "show_image(mean3)"
   ]
  },
  {
   "cell_type": "code",
   "execution_count": 17,
   "metadata": {},
   "outputs": [
    {
     "data": {
      "text/plain": [
       "<Axes: >"
      ]
     },
     "execution_count": 17,
     "metadata": {},
     "output_type": "execute_result"
    },
    {
     "data": {
      "image/png": "[encoded data removed]",
      "text/plain": [
       "<Figure size 100x100 with 1 Axes>"
      ]
     },
     "metadata": {},
     "output_type": "display_data"
    }
   ],
   "source": [
    "mean7 = stacked_sevens.mean(0)\n",
    "show_image(mean7)"
   ]
  },
  {
   "cell_type": "code",
   "execution_count": 18,
   "metadata": {},
   "outputs": [
    {
     "data": {
      "text/plain": [
       "<Axes: >"
      ]
     },
     "execution_count": 18,
     "metadata": {},
     "output_type": "execute_result"
    },
    {
     "data": {
      "image/png": "[encoded data removed]",
      "text/plain": [
       "<Figure size 100x100 with 1 Axes>"
      ]
     },
     "metadata": {},
     "output_type": "display_data"
    }
   ],
   "source": [
    "# arbitrary number\n",
    "a_3 = stacked_threes[1]\n",
    "show_image(a_3)"
   ]
  },
  {
   "cell_type": "code",
   "execution_count": 19,
   "metadata": {},
   "outputs": [
    {
     "data": {
      "text/plain": [
       "(tensor(0.1114), tensor(0.2021))"
      ]
     },
     "execution_count": 19,
     "metadata": {},
     "output_type": "execute_result"
    }
   ],
   "source": [
    "dist_3_abs = (a_3 - mean3).abs().mean()\n",
    "dist_3_sqr = ((a_3 - mean3)**2).mean().sqrt()\n",
    "dist_3_abs,dist_3_sqr"
   ]
  },
  {
   "cell_type": "code",
   "execution_count": 20,
   "metadata": {},
   "outputs": [
    {
     "data": {
      "text/plain": [
       "(tensor(0.1586), tensor(0.3021))"
      ]
     },
     "execution_count": 20,
     "metadata": {},
     "output_type": "execute_result"
    }
   ],
   "source": [
    "dist_7_abs = (a_3 - mean7).abs().mean()\n",
    "dist_7_sqr = ((a_3 - mean7)**2).mean().sqrt()\n",
    "dist_7_abs,dist_7_sqr"
   ]
  },
  {
   "cell_type": "code",
   "execution_count": 21,
   "metadata": {},
   "outputs": [
    {
     "data": {
      "text/plain": [
       "(torch.Size([1010, 28, 28]), torch.Size([1028, 28, 28]))"
      ]
     },
     "execution_count": 21,
     "metadata": {},
     "output_type": "execute_result"
    }
   ],
   "source": [
    "valid_3_tens = torch.stack([tensor(Image.open(o)) for o in (path/'valid'/'3').ls()]).float()/255\n",
    "\n",
    "valid_7_tens = torch.stack([tensor(Image.open(o)) for o in (path/'valid'/'7').ls()]).float()/255\n",
    "\n",
    "valid_3_tens.shape,valid_7_tens.shape"
   ]
  },
  {
   "cell_type": "code",
   "execution_count": 22,
   "metadata": {},
   "outputs": [
    {
     "data": {
      "text/plain": [
       "(tensor(0.1586), tensor(0.3021))"
      ]
     },
     "execution_count": 22,
     "metadata": {},
     "output_type": "execute_result"
    }
   ],
   "source": [
    "F.l1_loss(a_3.float(),mean7), F.mse_loss(a_3,mean7).sqrt()"
   ]
  },
  {
   "cell_type": "code",
   "execution_count": 23,
   "metadata": {},
   "outputs": [
    {
     "data": {
      "text/plain": [
       "tensor(0.1114)"
      ]
     },
     "execution_count": 23,
     "metadata": {},
     "output_type": "execute_result"
    }
   ],
   "source": [
    "def mnist_distance(a,b): return (a-b).abs().mean((-1,-2))\n",
    "mnist_distance(a_3, mean3)"
   ]
  },
  {
   "cell_type": "code",
   "execution_count": 24,
   "metadata": {},
   "outputs": [
    {
     "data": {
      "text/plain": [
       "(tensor([0.1126, 0.1463, 0.1226,  ..., 0.1058, 0.1233, 0.1152]),\n",
       " torch.Size([1010]))"
      ]
     },
     "execution_count": 24,
     "metadata": {},
     "output_type": "execute_result"
    }
   ],
   "source": [
    "valid_3_dist = mnist_distance(valid_3_tens, mean3)\n",
    "valid_3_dist, valid_3_dist.shape"
   ]
  },
  {
   "cell_type": "code",
   "execution_count": 25,
   "metadata": {},
   "outputs": [],
   "source": [
    "def is_3(x): return mnist_distance(x,mean3) < mnist_distance(x,mean7)"
   ]
  },
  {
   "cell_type": "code",
   "execution_count": 26,
   "metadata": {},
   "outputs": [
    {
     "data": {
      "text/plain": [
       "(tensor(True), tensor(1.))"
      ]
     },
     "execution_count": 26,
     "metadata": {},
     "output_type": "execute_result"
    }
   ],
   "source": [
    "is_3(a_3), is_3(a_3).float()"
   ]
  },
  {
   "cell_type": "code",
   "execution_count": 27,
   "metadata": {},
   "outputs": [],
   "source": [
    "train_x = torch.cat([stacked_threes, stacked_sevens]).view(-1, 28*28)"
   ]
  },
  {
   "cell_type": "code",
   "execution_count": 28,
   "metadata": {},
   "outputs": [
    {
     "data": {
      "text/plain": [
       "(torch.Size([12396, 784]), torch.Size([12396, 1]))"
      ]
     },
     "execution_count": 28,
     "metadata": {},
     "output_type": "execute_result"
    }
   ],
   "source": [
    "train_y = tensor([1]*len(threes) + [0]*len(sevens)).unsqueeze(1)\n",
    "train_x.shape,train_y.shape"
   ]
  },
  {
   "cell_type": "code",
   "execution_count": 29,
   "metadata": {},
   "outputs": [
    {
     "data": {
      "text/plain": [
       "(torch.Size([784]), tensor([1]))"
      ]
     },
     "execution_count": 29,
     "metadata": {},
     "output_type": "execute_result"
    }
   ],
   "source": [
    "dset = list(zip(train_x,train_y))\n",
    "x,y = dset[0]\n",
    "x.shape,y"
   ]
  },
  {
   "cell_type": "code",
   "execution_count": 30,
   "metadata": {},
   "outputs": [],
   "source": [
    "valid_x = torch.cat([valid_3_tens, valid_7_tens]).view(-1, 28*28)\n",
    "valid_y = tensor([1]*len(valid_3_tens) + [0]*len(valid_7_tens)).unsqueeze(1)\n",
    "valid_dset = list(zip(valid_x,valid_y))"
   ]
  },
  {
   "cell_type": "code",
   "execution_count": 31,
   "metadata": {},
   "outputs": [],
   "source": [
    "def init_params(size, std=1.0): return (torch.randn(size)*std).requires_grad_()"
   ]
  },
  {
   "cell_type": "code",
   "execution_count": 32,
   "metadata": {},
   "outputs": [],
   "source": [
    "weights = init_params((28*28,1))"
   ]
  },
  {
   "cell_type": "code",
   "execution_count": 33,
   "metadata": {},
   "outputs": [],
   "source": [
    "bias = init_params(1)"
   ]
  },
  {
   "cell_type": "code",
   "execution_count": 34,
   "metadata": {},
   "outputs": [
    {
     "data": {
      "text/plain": [
       "tensor([-6.2330], grad_fn=<AddBackward0>)"
      ]
     },
     "execution_count": 34,
     "metadata": {},
     "output_type": "execute_result"
    }
   ],
   "source": [
    "(train_x[0]*weights.T).sum() + bias"
   ]
  },
  {
   "cell_type": "code",
   "execution_count": 35,
   "metadata": {},
   "outputs": [
    {
     "data": {
      "text/plain": [
       "tensor([[ -6.2330],\n",
       "        [-10.6388],\n",
       "        [-20.8865],\n",
       "        ...,\n",
       "        [-15.9176],\n",
       "        [ -1.6866],\n",
       "        [-11.3568]], grad_fn=<AddBackward0>)"
      ]
     },
     "execution_count": 35,
     "metadata": {},
     "output_type": "execute_result"
    }
   ],
   "source": [
    "def linear1(xb): return xb@weights + bias\n",
    "preds = linear1(train_x)\n",
    "preds"
   ]
  },
  {
   "cell_type": "code",
   "execution_count": 36,
   "metadata": {},
   "outputs": [
    {
     "data": {
      "text/plain": [
       "tensor([[False],\n",
       "        [False],\n",
       "        [False],\n",
       "        ...,\n",
       "        [ True],\n",
       "        [ True],\n",
       "        [ True]])"
      ]
     },
     "execution_count": 36,
     "metadata": {},
     "output_type": "execute_result"
    }
   ],
   "source": [
    "corrects = (preds>0.0).float() == train_y\n",
    "corrects"
   ]
  },
  {
   "cell_type": "code",
   "execution_count": 37,
   "metadata": {},
   "outputs": [
    {
     "data": {
      "text/plain": [
       "0.5379961133003235"
      ]
     },
     "execution_count": 37,
     "metadata": {},
     "output_type": "execute_result"
    }
   ],
   "source": [
    "corrects.float().mean().item()"
   ]
  },
  {
   "cell_type": "code",
   "execution_count": 38,
   "metadata": {},
   "outputs": [],
   "source": [
    "with torch.no_grad(): weights[0] *= 1.0001"
   ]
  },
  {
   "cell_type": "code",
   "execution_count": 39,
   "metadata": {},
   "outputs": [
    {
     "data": {
      "text/plain": [
       "0.5379961133003235"
      ]
     },
     "execution_count": 39,
     "metadata": {},
     "output_type": "execute_result"
    }
   ],
   "source": [
    "preds = linear1(train_x)\n",
    "((preds>0.0).float() == train_y).float().mean().item()"
   ]
  },
  {
   "cell_type": "code",
   "execution_count": 40,
   "metadata": {},
   "outputs": [
    {
     "name": "stdout",
     "output_type": "stream",
     "text": [
      "Help on built-in function where in module torch:\n",
      "\n",
      "where(...)\n",
      "    where(condition, input, other, *, out=None) -> Tensor\n",
      "\n",
      "    Return a tensor of elements selected from either :attr:`input` or :attr:`other`, depending on :attr:`condition`.\n",
      "\n",
      "    The operation is defined as:\n",
      "\n",
      "    .. math::\n",
      "        \\text{out}_i = \\begin{cases}\n",
      "            \\text{input}_i & \\text{if } \\text{condition}_i \\\\\n",
      "            \\text{other}_i & \\text{otherwise} \\\\\n",
      "        \\end{cases}\n",
      "\n",
      "    .. note::\n",
      "        The tensors :attr:`condition`, :attr:`input`, :attr:`other` must be :ref:`broadcastable <broadcasting-semantics>`.\n",
      "\n",
      "    Arguments:\n",
      "        condition (BoolTensor): When True (nonzero), yield input, otherwise yield other\n",
      "        input (Tensor or Scalar): value (if :attr:`input` is a scalar) or values selected at indices\n",
      "                              where :attr:`condition` is ``True``\n",
      "        other (Tensor or Scalar): value (if :attr:`other` is a scalar) or values selected at indices\n",
      "                              where :attr:`condition` is ``False``\n",
      "\n",
      "    Keyword args:\n",
      "        out (Tensor, optional): the output tensor.\n",
      "\n",
      "    Returns:\n",
      "        Tensor: A tensor of shape equal to the broadcasted shape of :attr:`condition`, :attr:`input`, :attr:`other`\n",
      "\n",
      "    Example::\n",
      "\n",
      "        >>> x = torch.randn(3, 2)\n",
      "        >>> y = torch.ones(3, 2)\n",
      "        >>> x\n",
      "        tensor([[-0.4620,  0.3139],\n",
      "                [ 0.3898, -0.7197],\n",
      "                [ 0.0478, -0.1657]])\n",
      "        >>> torch.where(x > 0, 1.0, 0.0)\n",
      "        tensor([[0., 1.],\n",
      "                [1., 0.],\n",
      "                [1., 0.]])\n",
      "        >>> torch.where(x > 0, x, y)\n",
      "        tensor([[ 1.0000,  0.3139],\n",
      "                [ 0.3898,  1.0000],\n",
      "                [ 0.0478,  1.0000]])\n",
      "        >>> x = torch.randn(2, 2, dtype=torch.double)\n",
      "        >>> x\n",
      "        tensor([[ 1.0779,  0.0383],\n",
      "                [-0.8785, -1.1089]], dtype=torch.float64)\n",
      "        >>> torch.where(x > 0, x, 0.)\n",
      "        tensor([[1.0779, 0.0383],\n",
      "                [0.0000, 0.0000]], dtype=torch.float64)\n",
      "\n",
      "    .. function:: where(condition) -> tuple of LongTensor\n",
      "       :noindex:\n",
      "\n",
      "    ``torch.where(condition)`` is identical to\n",
      "    ``torch.nonzero(condition, as_tuple=True)``.\n",
      "\n",
      "    .. note::\n",
      "        See also :func:`torch.nonzero`.\n",
      "\n"
     ]
    }
   ],
   "source": [
    "help(torch.where)"
   ]
  },
  {
   "cell_type": "code",
   "execution_count": 41,
   "metadata": {},
   "outputs": [],
   "source": [
    "def mnist_loss(predictions, targets):\n",
    "    return torch.where(targets==1, 1-predictions, predictions).mean()"
   ]
  },
  {
   "cell_type": "code",
   "execution_count": 42,
   "metadata": {},
   "outputs": [],
   "source": [
    "trgts  = tensor([1,0,1])\n",
    "prds   = tensor([0.9, 0.4, 0.2])"
   ]
  },
  {
   "cell_type": "code",
   "execution_count": 43,
   "metadata": {},
   "outputs": [
    {
     "data": {
      "text/plain": [
       "tensor([0.1000, 0.4000, 0.8000])"
      ]
     },
     "execution_count": 43,
     "metadata": {},
     "output_type": "execute_result"
    }
   ],
   "source": [
    "torch.where(trgts==1, 1-prds, prds)"
   ]
  },
  {
   "cell_type": "code",
   "execution_count": 44,
   "metadata": {},
   "outputs": [
    {
     "data": {
      "text/plain": [
       "tensor(0.4333)"
      ]
     },
     "execution_count": 44,
     "metadata": {},
     "output_type": "execute_result"
    }
   ],
   "source": [
    "mnist_loss(prds,trgts)"
   ]
  },
  {
   "cell_type": "code",
   "execution_count": 45,
   "metadata": {},
   "outputs": [
    {
     "data": {
      "text/plain": [
       "tensor(0.2333)"
      ]
     },
     "execution_count": 45,
     "metadata": {},
     "output_type": "execute_result"
    }
   ],
   "source": [
    "mnist_loss(tensor([0.9, 0.4, 0.8]),trgts)"
   ]
  },
  {
   "cell_type": "code",
   "execution_count": 46,
   "metadata": {},
   "outputs": [],
   "source": [
    "def sigmoid(x): return 1/(1+torch.exp(-x))"
   ]
  },
  {
   "cell_type": "code",
   "execution_count": 47,
   "metadata": {},
   "outputs": [
    {
     "data": {
      "image/png": "[encoded data removed]",
      "text/plain": [
       "<Figure size 600x400 with 1 Axes>"
      ]
     },
     "metadata": {},
     "output_type": "display_data"
    }
   ],
   "source": [
    "plot_function(torch.sigmoid, title='Sigmoid', min=-4, max=4)"
   ]
  },
  {
   "cell_type": "code",
   "execution_count": 48,
   "metadata": {},
   "outputs": [],
   "source": [
    "def mnist_loss(predictions, targets):\n",
    "    predictions = predictions.sigmoid()\n",
    "    return torch.where(targets==1, 1-predictions, predictions).mean()"
   ]
  },
  {
   "cell_type": "code",
   "execution_count": 49,
   "metadata": {},
   "outputs": [
    {
     "data": {
      "text/plain": [
       "[tensor([ 3, 12,  8, 10,  2]),\n",
       " tensor([ 9,  4,  7, 14,  5]),\n",
       " tensor([ 1, 13,  0,  6, 11])]"
      ]
     },
     "execution_count": 49,
     "metadata": {},
     "output_type": "execute_result"
    }
   ],
   "source": [
    "coll = range(15)\n",
    "dl = DataLoader(coll, batch_size=5, shuffle=True)\n",
    "list(dl)"
   ]
  },
  {
   "cell_type": "code",
   "execution_count": 50,
   "metadata": {},
   "outputs": [
    {
     "data": {
      "text/plain": [
       "(#26) [(0, 'a'),(1, 'b'),(2, 'c'),(3, 'd'),(4, 'e'),(5, 'f'),(6, 'g'),(7, 'h'),(8, 'i'),(9, 'j')...]"
      ]
     },
     "execution_count": 50,
     "metadata": {},
     "output_type": "execute_result"
    }
   ],
   "source": [
    "ds = L(enumerate(string.ascii_lowercase))\n",
    "ds"
   ]
  },
  {
   "cell_type": "code",
   "execution_count": 51,
   "metadata": {},
   "outputs": [
    {
     "data": {
      "text/plain": [
       "[(tensor([17, 18, 10, 22,  8, 14]), ('r', 's', 'k', 'w', 'i', 'o')),\n",
       " (tensor([20, 15,  9, 13, 21, 12]), ('u', 'p', 'j', 'n', 'v', 'm')),\n",
       " (tensor([ 7, 25,  6,  5, 11, 23]), ('h', 'z', 'g', 'f', 'l', 'x')),\n",
       " (tensor([ 1,  3,  0, 24, 19, 16]), ('b', 'd', 'a', 'y', 't', 'q')),\n",
       " (tensor([2, 4]), ('c', 'e'))]"
      ]
     },
     "execution_count": 51,
     "metadata": {},
     "output_type": "execute_result"
    }
   ],
   "source": [
    "dl = DataLoader(ds, batch_size=6, shuffle=True)\n",
    "list(dl)"
   ]
  },
  {
   "cell_type": "code",
   "execution_count": 52,
   "metadata": {},
   "outputs": [],
   "source": [
    "weights = init_params((28*28,1))\n",
    "bias = init_params(1)"
   ]
  },
  {
   "cell_type": "code",
   "execution_count": 53,
   "metadata": {},
   "outputs": [
    {
     "data": {
      "text/plain": [
       "(torch.Size([256, 784]), torch.Size([256, 1]))"
      ]
     },
     "execution_count": 53,
     "metadata": {},
     "output_type": "execute_result"
    }
   ],
   "source": [
    "dl = DataLoader(dset, batch_size=256)\n",
    "xb,yb = first(dl)\n",
    "xb.shape,yb.shape"
   ]
  },
  {
   "cell_type": "code",
   "execution_count": 54,
   "metadata": {},
   "outputs": [],
   "source": [
    "valid_dl = DataLoader(valid_dset, batch_size=256)"
   ]
  },
  {
   "cell_type": "code",
   "execution_count": 55,
   "metadata": {},
   "outputs": [
    {
     "data": {
      "text/plain": [
       "torch.Size([4, 784])"
      ]
     },
     "execution_count": 55,
     "metadata": {},
     "output_type": "execute_result"
    }
   ],
   "source": [
    "batch = train_x[:4]\n",
    "batch.shape"
   ]
  },
  {
   "cell_type": "code",
   "execution_count": 56,
   "metadata": {},
   "outputs": [
    {
     "data": {
      "text/plain": [
       "tensor([[11.6180],\n",
       "        [ 9.0489],\n",
       "        [-2.4524],\n",
       "        [-2.5197]], grad_fn=<AddBackward0>)"
      ]
     },
     "execution_count": 56,
     "metadata": {},
     "output_type": "execute_result"
    }
   ],
   "source": [
    "preds = linear1(batch)\n",
    "preds"
   ]
  },
  {
   "cell_type": "code",
   "execution_count": 57,
   "metadata": {},
   "outputs": [
    {
     "data": {
      "text/plain": [
       "tensor(0.4616, grad_fn=<MeanBackward0>)"
      ]
     },
     "execution_count": 57,
     "metadata": {},
     "output_type": "execute_result"
    }
   ],
   "source": [
    "loss = mnist_loss(preds, train_y[:4])\n",
    "loss"
   ]
  },
  {
   "cell_type": "code",
   "execution_count": 58,
   "metadata": {},
   "outputs": [
    {
     "data": {
      "text/plain": [
       "(torch.Size([784, 1]), tensor(-0.0057), tensor([-0.0355]))"
      ]
     },
     "execution_count": 58,
     "metadata": {},
     "output_type": "execute_result"
    }
   ],
   "source": [
    "loss.backward()\n",
    "weights.grad.shape, weights.grad.mean(), bias.grad"
   ]
  },
  {
   "cell_type": "code",
   "execution_count": 59,
   "metadata": {},
   "outputs": [],
   "source": [
    "def calc_grad(xb, yb, model):\n",
    "    preds = model(xb)\n",
    "    loss = mnist_loss(preds, yb)\n",
    "    loss.backward()"
   ]
  },
  {
   "cell_type": "code",
   "execution_count": 60,
   "metadata": {},
   "outputs": [
    {
     "data": {
      "text/plain": [
       "(tensor(-0.0113), tensor([-0.0710]))"
      ]
     },
     "execution_count": 60,
     "metadata": {},
     "output_type": "execute_result"
    }
   ],
   "source": [
    "calc_grad(batch, train_y[:4], linear1)\n",
    "weights.grad.mean(),bias.grad"
   ]
  },
  {
   "cell_type": "code",
   "execution_count": 62,
   "metadata": {},
   "outputs": [
    {
     "data": {
      "text/plain": [
       "tensor([0.])"
      ]
     },
     "execution_count": 62,
     "metadata": {},
     "output_type": "execute_result"
    }
   ],
   "source": [
    "weights.grad.zero_()\n",
    "bias.grad.zero_()"
   ]
  },
  {
   "cell_type": "code",
   "execution_count": 63,
   "metadata": {},
   "outputs": [],
   "source": [
    "def train_epoch(model, lr, params):\n",
    "    for xb,yb in dl:\n",
    "        calc_grad(xb, yb, model)\n",
    "        for p in params:\n",
    "            p.data -= p.grad*lr\n",
    "            p.grad.zero_()"
   ]
  },
  {
   "cell_type": "code",
   "execution_count": 64,
   "metadata": {},
   "outputs": [
    {
     "data": {
      "text/plain": [
       "tensor([[ True],\n",
       "        [ True],\n",
       "        [False],\n",
       "        [False]])"
      ]
     },
     "execution_count": 64,
     "metadata": {},
     "output_type": "execute_result"
    }
   ],
   "source": [
    "(preds>0.0).float() == train_y[:4]"
   ]
  },
  {
   "cell_type": "code",
   "execution_count": 65,
   "metadata": {},
   "outputs": [],
   "source": [
    "def batch_accuracy(xb, yb):\n",
    "    preds = xb.sigmoid()\n",
    "    correct = (preds>0.5) == yb\n",
    "    return correct.float().mean()"
   ]
  },
  {
   "cell_type": "code",
   "execution_count": 66,
   "metadata": {},
   "outputs": [
    {
     "data": {
      "text/plain": [
       "tensor(0.5000)"
      ]
     },
     "execution_count": 66,
     "metadata": {},
     "output_type": "execute_result"
    }
   ],
   "source": [
    "batch_accuracy(linear1(batch), train_y[:4])"
   ]
  },
  {
   "cell_type": "code",
   "execution_count": 67,
   "metadata": {},
   "outputs": [],
   "source": [
    "def validate_epoch(model):\n",
    "    accs = [batch_accuracy(model(xb), yb) for xb,yb in valid_dl]\n",
    "    return round(torch.stack(accs).mean().item(), 4)"
   ]
  },
  {
   "cell_type": "code",
   "execution_count": 68,
   "metadata": {},
   "outputs": [
    {
     "data": {
      "text/plain": [
       "0.5485"
      ]
     },
     "execution_count": 68,
     "metadata": {},
     "output_type": "execute_result"
    }
   ],
   "source": [
    "validate_epoch(linear1)"
   ]
  },
  {
   "cell_type": "code",
   "execution_count": 69,
   "metadata": {},
   "outputs": [
    {
     "data": {
      "text/plain": [
       "0.6293"
      ]
     },
     "execution_count": 69,
     "metadata": {},
     "output_type": "execute_result"
    }
   ],
   "source": [
    "lr = 1.\n",
    "params = weights,bias\n",
    "train_epoch(linear1, lr, params)\n",
    "validate_epoch(linear1)"
   ]
  },
  {
   "cell_type": "code",
   "execution_count": 70,
   "metadata": {},
   "outputs": [
    {
     "name": "stdout",
     "output_type": "stream",
     "text": [
      "0.8129 0.913 0.9443 0.956 0.9623 0.9667 0.9692 0.9706 0.9721 0.9741 0.9745 0.975 0.976 0.9765 0.9765 0.977 0.9775 0.9775 0.9775 0.9775 "
     ]
    }
   ],
   "source": [
    "for i in range(20):\n",
    "    train_epoch(linear1, lr, params)\n",
    "    print(validate_epoch(linear1), end=' ')"
   ]
  },
  {
   "cell_type": "code",
   "execution_count": 71,
   "metadata": {},
   "outputs": [],
   "source": [
    "linear_model = nn.Linear(28*28,1)"
   ]
  },
  {
   "cell_type": "code",
   "execution_count": 72,
   "metadata": {},
   "outputs": [
    {
     "data": {
      "text/plain": [
       "(torch.Size([1, 784]), torch.Size([1]))"
      ]
     },
     "execution_count": 72,
     "metadata": {},
     "output_type": "execute_result"
    }
   ],
   "source": [
    "w,b = linear_model.parameters()\n",
    "w.shape,b.shape"
   ]
  },
  {
   "cell_type": "code",
   "execution_count": 84,
   "metadata": {},
   "outputs": [],
   "source": [
    "class BasicOptim:\n",
    "    def __init__(self,params,lr):\n",
    "        self.params, self.lr = list(params), lr\n",
    "\n",
    "    def step(self, *args, **kwargs):\n",
    "        for p in self.params: p.data -= p.grad.data * self.lr\n",
    "\n",
    "    def zero_grad(self, *args, **kwargs):\n",
    "        for p in self.params: p.grad = None"
   ]
  },
  {
   "cell_type": "code",
   "execution_count": 85,
   "metadata": {},
   "outputs": [],
   "source": [
    "opt = BasicOptim(linear_model.parameters(), lr)"
   ]
  },
  {
   "cell_type": "code",
   "execution_count": 86,
   "metadata": {},
   "outputs": [],
   "source": [
    "def train_epoch(model):\n",
    "    for xb,yb in dl:\n",
    "        calc_grad(xb, yb, model)\n",
    "        opt.step()\n",
    "        opt.zero_grad()"
   ]
  },
  {
   "cell_type": "code",
   "execution_count": 87,
   "metadata": {},
   "outputs": [
    {
     "data": {
      "text/plain": [
       "0.3565"
      ]
     },
     "execution_count": 87,
     "metadata": {},
     "output_type": "execute_result"
    }
   ],
   "source": [
    "validate_epoch(linear_model)"
   ]
  },
  {
   "cell_type": "code",
   "execution_count": 88,
   "metadata": {},
   "outputs": [],
   "source": [
    "def train_model(model, epochs):\n",
    "    for i in range(epochs):\n",
    "        train_epoch(model)\n",
    "        print(validate_epoch(model), end=' ')"
   ]
  },
  {
   "cell_type": "code",
   "execution_count": 89,
   "metadata": {},
   "outputs": [
    {
     "name": "stdout",
     "output_type": "stream",
     "text": [
      "0.4932 0.77 0.8559 0.9175 0.9355 0.9492 0.955 0.9633 0.9658 0.9682 0.9697 0.9726 0.9741 0.9746 0.976 0.976 0.9775 0.978 0.978 0.9785 "
     ]
    }
   ],
   "source": [
    "train_model(linear_model, 20)"
   ]
  },
  {
   "cell_type": "code",
   "execution_count": 90,
   "metadata": {},
   "outputs": [
    {
     "name": "stdout",
     "output_type": "stream",
     "text": [
      "0.4932 0.8149 0.854 0.917 0.935 0.9497 0.9555 0.9629 0.9658 0.9682 0.9697 0.9716 0.9746 0.9751 0.976 0.977 0.978 0.978 0.9785 0.9785 "
     ]
    }
   ],
   "source": [
    "linear_model = nn.Linear(28*28,1)\n",
    "opt = SGD(linear_model.parameters(), lr)\n",
    "train_model(linear_model, 20)"
   ]
  },
  {
   "cell_type": "code",
   "execution_count": 91,
   "metadata": {},
   "outputs": [],
   "source": [
    "dls = DataLoaders(dl, valid_dl)"
   ]
  },
  {
   "cell_type": "code",
   "execution_count": 92,
   "metadata": {},
   "outputs": [],
   "source": [
    "learn = Learner(dls, nn.Linear(28*28,1), opt_func=SGD,\n",
    "                loss_func=mnist_loss, metrics=batch_accuracy)"
   ]
  },
  {
   "cell_type": "code",
   "execution_count": 93,
   "metadata": {},
   "outputs": [
    {
     "data": {
      "text/html": [
       "\n",
       "<style>\n",
       "    /* Turns off some styling */\n",
       "    progress {\n",
       "        /* gets rid of default border in Firefox and Opera. */\n",
       "        border: none;\n",
       "        /* Needs to be in here for Safari polyfill so background images work as expected. */\n",
       "        background-size: auto;\n",
       "    }\n",
       "    progress:not([value]), progress:not([value])::-webkit-progress-bar {\n",
       "        background: repeating-linear-gradient(45deg, #7e7e7e, #7e7e7e 10px, #5c5c5c 10px, #5c5c5c 20px);\n",
       "    }\n",
       "    .progress-bar-interrupted, .progress-bar-interrupted::-webkit-progress-bar {\n",
       "        background: #F44336;\n",
       "    }\n",
       "</style>\n"
      ],
      "text/plain": [
       "<IPython.core.display.HTML object>"
      ]
     },
     "metadata": {},
     "output_type": "display_data"
    },
    {
     "data": {
      "text/html": [
       "<table border=\"1\" class=\"dataframe\">\n",
       "  <thead>\n",
       "    <tr style=\"text-align: left;\">\n",
       "      <th>epoch</th>\n",
       "      <th>train_loss</th>\n",
       "      <th>valid_loss</th>\n",
       "      <th>batch_accuracy</th>\n",
       "      <th>time</th>\n",
       "    </tr>\n",
       "  </thead>\n",
       "  <tbody>\n",
       "    <tr>\n",
       "      <td>0</td>\n",
       "      <td>0.636801</td>\n",
       "      <td>0.503659</td>\n",
       "      <td>0.495584</td>\n",
       "      <td>00:00</td>\n",
       "    </tr>\n",
       "    <tr>\n",
       "      <td>1</td>\n",
       "      <td>0.595294</td>\n",
       "      <td>0.167055</td>\n",
       "      <td>0.868008</td>\n",
       "      <td>00:00</td>\n",
       "    </tr>\n",
       "    <tr>\n",
       "      <td>2</td>\n",
       "      <td>0.216102</td>\n",
       "      <td>0.194360</td>\n",
       "      <td>0.820903</td>\n",
       "      <td>00:00</td>\n",
       "    </tr>\n",
       "    <tr>\n",
       "      <td>3</td>\n",
       "      <td>0.092935</td>\n",
       "      <td>0.109724</td>\n",
       "      <td>0.909715</td>\n",
       "      <td>00:00</td>\n",
       "    </tr>\n",
       "    <tr>\n",
       "      <td>4</td>\n",
       "      <td>0.047683</td>\n",
       "      <td>0.078979</td>\n",
       "      <td>0.932287</td>\n",
       "      <td>00:00</td>\n",
       "    </tr>\n",
       "    <tr>\n",
       "      <td>5</td>\n",
       "      <td>0.030144</td>\n",
       "      <td>0.062828</td>\n",
       "      <td>0.946025</td>\n",
       "      <td>00:00</td>\n",
       "    </tr>\n",
       "    <tr>\n",
       "      <td>6</td>\n",
       "      <td>0.023021</td>\n",
       "      <td>0.052928</td>\n",
       "      <td>0.955348</td>\n",
       "      <td>00:00</td>\n",
       "    </tr>\n",
       "    <tr>\n",
       "      <td>7</td>\n",
       "      <td>0.019919</td>\n",
       "      <td>0.046416</td>\n",
       "      <td>0.962218</td>\n",
       "      <td>00:00</td>\n",
       "    </tr>\n",
       "    <tr>\n",
       "      <td>8</td>\n",
       "      <td>0.018390</td>\n",
       "      <td>0.041868</td>\n",
       "      <td>0.965162</td>\n",
       "      <td>00:00</td>\n",
       "    </tr>\n",
       "    <tr>\n",
       "      <td>9</td>\n",
       "      <td>0.017501</td>\n",
       "      <td>0.038526</td>\n",
       "      <td>0.967615</td>\n",
       "      <td>00:00</td>\n",
       "    </tr>\n",
       "  </tbody>\n",
       "</table>"
      ],
      "text/plain": [
       "<IPython.core.display.HTML object>"
      ]
     },
     "metadata": {},
     "output_type": "display_data"
    }
   ],
   "source": [
    "learn.fit(10, lr=lr)"
   ]
  },
  {
   "cell_type": "code",
   "execution_count": 97,
   "metadata": {},
   "outputs": [],
   "source": [
    "def simple_net(xb): \n",
    "    res = xb@w1 + b1\n",
    "    res = res.max(tensor(0.0)) # ReLU (Rectified Linear Unit, a function that's zero for negative values)\n",
    "    res = res@w2 + b2\n",
    "    return res"
   ]
  },
  {
   "cell_type": "code",
   "execution_count": 98,
   "metadata": {},
   "outputs": [],
   "source": [
    "w1 = init_params((28*28,30))\n",
    "b1 = init_params(30)\n",
    "w2 = init_params((30,1))\n",
    "b2 = init_params(1)"
   ]
  },
  {
   "cell_type": "code",
   "execution_count": 99,
   "metadata": {},
   "outputs": [
    {
     "data": {
      "image/png": "[encoded data removed]",
      "text/plain": [
       "<Figure size 600x400 with 1 Axes>"
      ]
     },
     "metadata": {},
     "output_type": "display_data"
    }
   ],
   "source": [
    "plot_function(F.relu)"
   ]
  },
  {
   "cell_type": "code",
   "execution_count": 100,
   "metadata": {},
   "outputs": [],
   "source": [
    "simple_net = nn.Sequential(\n",
    "    nn.Linear(28*28,30),\n",
    "    nn.ReLU(),\n",
    "    nn.Linear(30,1)\n",
    ")"
   ]
  },
  {
   "cell_type": "code",
   "execution_count": 101,
   "metadata": {},
   "outputs": [],
   "source": [
    "learn = Learner(dls, simple_net, opt_func=SGD,\n",
    "                loss_func=mnist_loss, metrics=batch_accuracy)"
   ]
  },
  {
   "cell_type": "code",
   "execution_count": 102,
   "metadata": {},
   "outputs": [
    {
     "data": {
      "text/html": [
       "\n",
       "<style>\n",
       "    /* Turns off some styling */\n",
       "    progress {\n",
       "        /* gets rid of default border in Firefox and Opera. */\n",
       "        border: none;\n",
       "        /* Needs to be in here for Safari polyfill so background images work as expected. */\n",
       "        background-size: auto;\n",
       "    }\n",
       "    progress:not([value]), progress:not([value])::-webkit-progress-bar {\n",
       "        background: repeating-linear-gradient(45deg, #7e7e7e, #7e7e7e 10px, #5c5c5c 10px, #5c5c5c 20px);\n",
       "    }\n",
       "    .progress-bar-interrupted, .progress-bar-interrupted::-webkit-progress-bar {\n",
       "        background: #F44336;\n",
       "    }\n",
       "</style>\n"
      ],
      "text/plain": [
       "<IPython.core.display.HTML object>"
      ]
     },
     "metadata": {},
     "output_type": "display_data"
    },
    {
     "data": {
      "text/html": [
       "<table border=\"1\" class=\"dataframe\">\n",
       "  <thead>\n",
       "    <tr style=\"text-align: left;\">\n",
       "      <th>epoch</th>\n",
       "      <th>train_loss</th>\n",
       "      <th>valid_loss</th>\n",
       "      <th>batch_accuracy</th>\n",
       "      <th>time</th>\n",
       "    </tr>\n",
       "  </thead>\n",
       "  <tbody>\n",
       "    <tr>\n",
       "      <td>0</td>\n",
       "      <td>0.317952</td>\n",
       "      <td>0.402303</td>\n",
       "      <td>0.505888</td>\n",
       "      <td>00:00</td>\n",
       "    </tr>\n",
       "    <tr>\n",
       "      <td>1</td>\n",
       "      <td>0.147431</td>\n",
       "      <td>0.224802</td>\n",
       "      <td>0.811580</td>\n",
       "      <td>00:00</td>\n",
       "    </tr>\n",
       "    <tr>\n",
       "      <td>2</td>\n",
       "      <td>0.081412</td>\n",
       "      <td>0.113134</td>\n",
       "      <td>0.918057</td>\n",
       "      <td>00:00</td>\n",
       "    </tr>\n",
       "    <tr>\n",
       "      <td>3</td>\n",
       "      <td>0.053371</td>\n",
       "      <td>0.076575</td>\n",
       "      <td>0.941609</td>\n",
       "      <td>00:00</td>\n",
       "    </tr>\n",
       "    <tr>\n",
       "      <td>4</td>\n",
       "      <td>0.040375</td>\n",
       "      <td>0.059810</td>\n",
       "      <td>0.957802</td>\n",
       "      <td>00:00</td>\n",
       "    </tr>\n",
       "    <tr>\n",
       "      <td>5</td>\n",
       "      <td>0.033737</td>\n",
       "      <td>0.050388</td>\n",
       "      <td>0.965162</td>\n",
       "      <td>00:00</td>\n",
       "    </tr>\n",
       "    <tr>\n",
       "      <td>6</td>\n",
       "      <td>0.029928</td>\n",
       "      <td>0.044459</td>\n",
       "      <td>0.967125</td>\n",
       "      <td>00:00</td>\n",
       "    </tr>\n",
       "    <tr>\n",
       "      <td>7</td>\n",
       "      <td>0.027458</td>\n",
       "      <td>0.040423</td>\n",
       "      <td>0.968106</td>\n",
       "      <td>00:00</td>\n",
       "    </tr>\n",
       "    <tr>\n",
       "      <td>8</td>\n",
       "      <td>0.025683</td>\n",
       "      <td>0.037500</td>\n",
       "      <td>0.969087</td>\n",
       "      <td>00:00</td>\n",
       "    </tr>\n",
       "    <tr>\n",
       "      <td>9</td>\n",
       "      <td>0.024311</td>\n",
       "      <td>0.035276</td>\n",
       "      <td>0.970069</td>\n",
       "      <td>00:00</td>\n",
       "    </tr>\n",
       "    <tr>\n",
       "      <td>10</td>\n",
       "      <td>0.023199</td>\n",
       "      <td>0.033514</td>\n",
       "      <td>0.971541</td>\n",
       "      <td>00:00</td>\n",
       "    </tr>\n",
       "    <tr>\n",
       "      <td>11</td>\n",
       "      <td>0.022272</td>\n",
       "      <td>0.032071</td>\n",
       "      <td>0.973994</td>\n",
       "      <td>00:00</td>\n",
       "    </tr>\n",
       "    <tr>\n",
       "      <td>12</td>\n",
       "      <td>0.021483</td>\n",
       "      <td>0.030857</td>\n",
       "      <td>0.974975</td>\n",
       "      <td>00:00</td>\n",
       "    </tr>\n",
       "    <tr>\n",
       "      <td>13</td>\n",
       "      <td>0.020799</td>\n",
       "      <td>0.029814</td>\n",
       "      <td>0.975466</td>\n",
       "      <td>00:00</td>\n",
       "    </tr>\n",
       "    <tr>\n",
       "      <td>14</td>\n",
       "      <td>0.020199</td>\n",
       "      <td>0.028904</td>\n",
       "      <td>0.975466</td>\n",
       "      <td>00:00</td>\n",
       "    </tr>\n",
       "    <tr>\n",
       "      <td>15</td>\n",
       "      <td>0.019666</td>\n",
       "      <td>0.028099</td>\n",
       "      <td>0.976448</td>\n",
       "      <td>00:00</td>\n",
       "    </tr>\n",
       "    <tr>\n",
       "      <td>16</td>\n",
       "      <td>0.019190</td>\n",
       "      <td>0.027382</td>\n",
       "      <td>0.976938</td>\n",
       "      <td>00:00</td>\n",
       "    </tr>\n",
       "    <tr>\n",
       "      <td>17</td>\n",
       "      <td>0.018761</td>\n",
       "      <td>0.026738</td>\n",
       "      <td>0.977429</td>\n",
       "      <td>00:00</td>\n",
       "    </tr>\n",
       "    <tr>\n",
       "      <td>18</td>\n",
       "      <td>0.018372</td>\n",
       "      <td>0.026156</td>\n",
       "      <td>0.978410</td>\n",
       "      <td>00:00</td>\n",
       "    </tr>\n",
       "    <tr>\n",
       "      <td>19</td>\n",
       "      <td>0.018016</td>\n",
       "      <td>0.025628</td>\n",
       "      <td>0.979392</td>\n",
       "      <td>00:00</td>\n",
       "    </tr>\n",
       "    <tr>\n",
       "      <td>20</td>\n",
       "      <td>0.017688</td>\n",
       "      <td>0.025147</td>\n",
       "      <td>0.979392</td>\n",
       "      <td>00:00</td>\n",
       "    </tr>\n",
       "    <tr>\n",
       "      <td>21</td>\n",
       "      <td>0.017386</td>\n",
       "      <td>0.024708</td>\n",
       "      <td>0.979392</td>\n",
       "      <td>00:00</td>\n",
       "    </tr>\n",
       "    <tr>\n",
       "      <td>22</td>\n",
       "      <td>0.017105</td>\n",
       "      <td>0.024306</td>\n",
       "      <td>0.979882</td>\n",
       "      <td>00:00</td>\n",
       "    </tr>\n",
       "    <tr>\n",
       "      <td>23</td>\n",
       "      <td>0.016844</td>\n",
       "      <td>0.023935</td>\n",
       "      <td>0.980864</td>\n",
       "      <td>00:00</td>\n",
       "    </tr>\n",
       "    <tr>\n",
       "      <td>24</td>\n",
       "      <td>0.016599</td>\n",
       "      <td>0.023593</td>\n",
       "      <td>0.980864</td>\n",
       "      <td>00:00</td>\n",
       "    </tr>\n",
       "    <tr>\n",
       "      <td>25</td>\n",
       "      <td>0.016369</td>\n",
       "      <td>0.023277</td>\n",
       "      <td>0.981845</td>\n",
       "      <td>00:00</td>\n",
       "    </tr>\n",
       "    <tr>\n",
       "      <td>26</td>\n",
       "      <td>0.016153</td>\n",
       "      <td>0.022984</td>\n",
       "      <td>0.981845</td>\n",
       "      <td>00:00</td>\n",
       "    </tr>\n",
       "    <tr>\n",
       "      <td>27</td>\n",
       "      <td>0.015949</td>\n",
       "      <td>0.022713</td>\n",
       "      <td>0.981845</td>\n",
       "      <td>00:00</td>\n",
       "    </tr>\n",
       "    <tr>\n",
       "      <td>28</td>\n",
       "      <td>0.015756</td>\n",
       "      <td>0.022460</td>\n",
       "      <td>0.981845</td>\n",
       "      <td>00:00</td>\n",
       "    </tr>\n",
       "    <tr>\n",
       "      <td>29</td>\n",
       "      <td>0.015573</td>\n",
       "      <td>0.022224</td>\n",
       "      <td>0.981845</td>\n",
       "      <td>00:00</td>\n",
       "    </tr>\n",
       "    <tr>\n",
       "      <td>30</td>\n",
       "      <td>0.015399</td>\n",
       "      <td>0.022004</td>\n",
       "      <td>0.981845</td>\n",
       "      <td>00:00</td>\n",
       "    </tr>\n",
       "    <tr>\n",
       "      <td>31</td>\n",
       "      <td>0.015233</td>\n",
       "      <td>0.021798</td>\n",
       "      <td>0.982826</td>\n",
       "      <td>00:00</td>\n",
       "    </tr>\n",
       "    <tr>\n",
       "      <td>32</td>\n",
       "      <td>0.015075</td>\n",
       "      <td>0.021605</td>\n",
       "      <td>0.982826</td>\n",
       "      <td>00:00</td>\n",
       "    </tr>\n",
       "    <tr>\n",
       "      <td>33</td>\n",
       "      <td>0.014923</td>\n",
       "      <td>0.021424</td>\n",
       "      <td>0.982336</td>\n",
       "      <td>00:00</td>\n",
       "    </tr>\n",
       "    <tr>\n",
       "      <td>34</td>\n",
       "      <td>0.014778</td>\n",
       "      <td>0.021253</td>\n",
       "      <td>0.982826</td>\n",
       "      <td>00:00</td>\n",
       "    </tr>\n",
       "    <tr>\n",
       "      <td>35</td>\n",
       "      <td>0.014639</td>\n",
       "      <td>0.021092</td>\n",
       "      <td>0.982336</td>\n",
       "      <td>00:00</td>\n",
       "    </tr>\n",
       "    <tr>\n",
       "      <td>36</td>\n",
       "      <td>0.014505</td>\n",
       "      <td>0.020939</td>\n",
       "      <td>0.982336</td>\n",
       "      <td>00:00</td>\n",
       "    </tr>\n",
       "    <tr>\n",
       "      <td>37</td>\n",
       "      <td>0.014376</td>\n",
       "      <td>0.020795</td>\n",
       "      <td>0.982336</td>\n",
       "      <td>00:00</td>\n",
       "    </tr>\n",
       "    <tr>\n",
       "      <td>38</td>\n",
       "      <td>0.014252</td>\n",
       "      <td>0.020659</td>\n",
       "      <td>0.982336</td>\n",
       "      <td>00:00</td>\n",
       "    </tr>\n",
       "    <tr>\n",
       "      <td>39</td>\n",
       "      <td>0.014131</td>\n",
       "      <td>0.020529</td>\n",
       "      <td>0.982336</td>\n",
       "      <td>00:00</td>\n",
       "    </tr>\n",
       "  </tbody>\n",
       "</table>"
      ],
      "text/plain": [
       "<IPython.core.display.HTML object>"
      ]
     },
     "metadata": {},
     "output_type": "display_data"
    }
   ],
   "source": [
    "learn.fit(40, 0.1)"
   ]
  },
  {
   "cell_type": "code",
   "execution_count": 104,
   "metadata": {},
   "outputs": [
    {
     "data": {
      "text/plain": [
       "[<matplotlib.lines.Line2D at 0x77449a5d7860>]"
      ]
     },
     "execution_count": 104,
     "metadata": {},
     "output_type": "execute_result"
    },
    {
     "data": {
      "image/png": "[encoded data removed]",
      "text/plain": [
       "<Figure size 640x480 with 1 Axes>"
      ]
     },
     "metadata": {},
     "output_type": "display_data"
    }
   ],
   "source": [
    "plt.plot(L(learn.recorder.values).itemgot(2))"
   ]
  },
  {
   "cell_type": "code",
   "execution_count": 109,
   "metadata": {},
   "outputs": [
    {
     "data": {
      "text/plain": [
       "0.98233562707901"
      ]
     },
     "execution_count": 109,
     "metadata": {},
     "output_type": "execute_result"
    }
   ],
   "source": [
    "learn.recorder.values[-1][2]"
   ]
  },
  {
   "cell_type": "code",
   "execution_count": 110,
   "metadata": {},
   "outputs": [
    {
     "data": {
      "text/html": [
       "\n",
       "<style>\n",
       "    /* Turns off some styling */\n",
       "    progress {\n",
       "        /* gets rid of default border in Firefox and Opera. */\n",
       "        border: none;\n",
       "        /* Needs to be in here for Safari polyfill so background images work as expected. */\n",
       "        background-size: auto;\n",
       "    }\n",
       "    progress:not([value]), progress:not([value])::-webkit-progress-bar {\n",
       "        background: repeating-linear-gradient(45deg, #7e7e7e, #7e7e7e 10px, #5c5c5c 10px, #5c5c5c 20px);\n",
       "    }\n",
       "    .progress-bar-interrupted, .progress-bar-interrupted::-webkit-progress-bar {\n",
       "        background: #F44336;\n",
       "    }\n",
       "</style>\n"
      ],
      "text/plain": [
       "<IPython.core.display.HTML object>"
      ]
     },
     "metadata": {},
     "output_type": "display_data"
    },
    {
     "data": {
      "text/html": [
       "<table border=\"1\" class=\"dataframe\">\n",
       "  <thead>\n",
       "    <tr style=\"text-align: left;\">\n",
       "      <th>epoch</th>\n",
       "      <th>train_loss</th>\n",
       "      <th>valid_loss</th>\n",
       "      <th>accuracy</th>\n",
       "      <th>time</th>\n",
       "    </tr>\n",
       "  </thead>\n",
       "  <tbody>\n",
       "    <tr>\n",
       "      <td>0</td>\n",
       "      <td>0.086275</td>\n",
       "      <td>0.012340</td>\n",
       "      <td>0.996565</td>\n",
       "      <td>02:12</td>\n",
       "    </tr>\n",
       "  </tbody>\n",
       "</table>"
      ],
      "text/plain": [
       "<IPython.core.display.HTML object>"
      ]
     },
     "metadata": {},
     "output_type": "display_data"
    }
   ],
   "source": [
    "dls = ImageDataLoaders.from_folder(path)\n",
    "learn = vision_learner(dls, resnet18, pretrained=False,\n",
    "                    loss_func=F.cross_entropy, metrics=accuracy)\n",
    "learn.fit_one_cycle(1, 0.1)"
   ]
  },
  {
   "cell_type": "code",
   "execution_count": null,
   "metadata": {},
   "outputs": [],
   "source": []
  }
 ],
 "metadata": {
  "kernelspec": {
   "display_name": "ml",
   "language": "python",
   "name": "python3"
  },
  "language_info": {
   "codemirror_mode": {
    "name": "ipython",
    "version": 3
   },
   "file_extension": ".py",
   "mimetype": "text/x-python",
   "name": "python",
   "nbconvert_exporter": "python",
   "pygments_lexer": "ipython3",
   "version": "3.12.5"
  }
 },
 "nbformat": 4,
 "nbformat_minor": 2
}
